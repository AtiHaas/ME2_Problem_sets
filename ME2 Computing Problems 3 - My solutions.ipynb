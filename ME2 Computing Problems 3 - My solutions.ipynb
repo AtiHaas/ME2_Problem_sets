{
 "cells": [
  {
   "cell_type": "code",
   "execution_count": 2,
   "metadata": {},
   "outputs": [
    {
     "name": "stdout",
     "output_type": "stream",
     "text": [
      "The integral with 5 nodes is 0.03665242818148203\n",
      "The integral with 11 nodes is 0.03645681455735674\n"
     ]
    }
   ],
   "source": [
    "#TASK A PART 1\n",
    "\n",
    "import numpy as np\n",
    "import matplotlib.pyplot as pl\n",
    "\n",
    "\n",
    "def trapzedq(x,y):\n",
    "    \n",
    "    #Finding the number of nodes (n) and the subinrerval (h) (here assumed to be the same everywhere)\n",
    "    n = len(x)\n",
    "    h = x[1] - x[0]\n",
    "    \n",
    "    #Adding the first and last datapoints \n",
    "    integral = h * (y[0] / 2 + y[-1]/2)\n",
    "    \n",
    "    #Adding all other datapoints, (the sum part of the formula)\n",
    "    for i in range(1,n-1):\n",
    "        integral += h * y[i] #IMPORTANT NOTE: Here I multiply each value by h and thus open the bracket this is different from doing not openening the bracket and multiplying by h at the very end\n",
    "        \n",
    "    return integral\n",
    "\n",
    "\n",
    "def f(x):\n",
    "    y = 1/np.sqrt(x**18.10+2021)\n",
    "    #y = np.sin(x)\n",
    "    return y\n",
    "\n",
    "\n",
    "#CALCULATING THE INTEGRAL FOR 5 NODES\n",
    "\n",
    "#Defineing the x values\n",
    "x1 = np.linspace(0,2,5)\n",
    "\n",
    "#Finding the corresponding y values\n",
    "y1 = []\n",
    "for i in x1:\n",
    "    y1.append(1/np.sqrt(i**18.10+2021))\n",
    "    \n",
    "I1 = trapzedq(x1,y1)\n",
    "print(f\"The integral with 5 nodes is {I1}\")\n",
    "\n",
    "#CALCULATING THE INTEGRAL FOR 11 NODES\n",
    "\n",
    "#Defineing the x values\n",
    "x2 = np.linspace(0,2,11)\n",
    "\n",
    "#Finding the corresponding y values\n",
    "y2 = []\n",
    "for i in x2:\n",
    "    y2.append(1/np.sqrt(i**18.10+2021))\n",
    "\n",
    "I2 = trapzedq(x2,y2)\n",
    "print(f\"The integral with 11 nodes is {I2}\")\n",
    "\n",
    "        "
   ]
  },
  {
   "cell_type": "code",
   "execution_count": 3,
   "metadata": {},
   "outputs": [
    {
     "data": {
      "text/plain": [
       "[<matplotlib.lines.Line2D at 0x7fcc46d03210>]"
      ]
     },
     "execution_count": 3,
     "metadata": {},
     "output_type": "execute_result"
    },
    {
     "data": {
      "image/png": "[encoded data removed]",
      "text/plain": [
       "<Figure size 432x288 with 1 Axes>"
      ]
     },
     "metadata": {
      "needs_background": "light"
     },
     "output_type": "display_data"
    }
   ],
   "source": [
    "#TASK A PART 2\n",
    "\n",
    "b = [10, 100, 1000, 10000]\n",
    "I = []\n",
    "\n",
    "for i in b:\n",
    "    x = np.linspace(0, i, 51)\n",
    "    y =[]\n",
    "    for j in x:\n",
    "        y.append(1/np.sqrt(j**18.10+2021))\n",
    "    \n",
    "    I.append(trapzedq(x,y))\n",
    "    \n",
    "pl.plot(b,I)\n",
    "\n"
   ]
  },
  {
   "cell_type": "code",
   "execution_count": 4,
   "metadata": {},
   "outputs": [
    {
     "name": "stdout",
     "output_type": "stream",
     "text": [
      "0.03728040807670104\n",
      "0.03728040920057175\n",
      "0.03728040920057175\n",
      "0.03728040920057175\n"
     ]
    },
    {
     "data": {
      "image/png": "[encoded data removed]",
      "text/plain": [
       "<Figure size 432x288 with 1 Axes>"
      ]
     },
     "metadata": {
      "needs_background": "light"
     },
     "output_type": "display_data"
    }
   ],
   "source": [
    "#TASK A PART 3\n",
    "\n",
    "b = [10, 100, 1000, 10000]\n",
    "I = []\n",
    "h = 0.5\n",
    "\n",
    "for i in b:\n",
    "    x = np.arange(0, i+h, h)\n",
    "    y = f(x)\n",
    "    \n",
    "    I += [trapzedq(x,y)]\n",
    "\n",
    "pl.plot(b, I)\n",
    "for i in I:\n",
    "    print(i)\n"
   ]
  },
  {
   "cell_type": "code",
   "execution_count": 5,
   "metadata": {},
   "outputs": [
    {
     "name": "stdout",
     "output_type": "stream",
     "text": [
      "nan\n",
      "nan\n",
      "nan\n",
      "nan\n"
     ]
    },
    {
     "name": "stderr",
     "output_type": "stream",
     "text": [
      "/Users/atihaas/opt/anaconda3/lib/python3.7/site-packages/ipykernel_launcher.py:10: RuntimeWarning: invalid value encountered in sqrt\n",
      "  # Remove the CWD from sys.path while we load stuff.\n",
      "/Users/atihaas/opt/anaconda3/lib/python3.7/site-packages/ipykernel_launcher.py:25: RuntimeWarning: invalid value encountered in sqrt\n"
     ]
    },
    {
     "data": {
      "image/png": "[encoded data removed]",
      "text/plain": [
       "<Figure size 432x288 with 1 Axes>"
      ]
     },
     "metadata": {
      "needs_background": "light"
     },
     "output_type": "display_data"
    }
   ],
   "source": [
    "#TASK B PART 1\n",
    "\n",
    "b = [10, 100, 1000, 10000]\n",
    "I = []\n",
    "\n",
    "for i in b:\n",
    "    x = np.linspace(0, i, 51)\n",
    "    y =[]\n",
    "    for j in x:\n",
    "        y.append(1/np.sqrt(j**18.10-2021))\n",
    "    \n",
    "    I.append(trapzedq(x,y))\n",
    "    \n",
    "pl.plot(b,I)\n",
    "\n",
    "\n",
    "b = [10, 100, 1000, 10000]\n",
    "I = []\n",
    "h = 0.5\n",
    "\n",
    "for i in b:\n",
    "    x = np.arange(0, i+h, h)\n",
    "    y =[]\n",
    "    for j in x:\n",
    "        y.append(1/np.sqrt(j**18.10-2021))\n",
    "    \n",
    "    I += [trapzedq(x,y)]\n",
    "\n",
    "pl.plot(b, I)\n",
    "for i in I:\n",
    "    print(i)"
   ]
  },
  {
   "cell_type": "code",
   "execution_count": 6,
   "metadata": {},
   "outputs": [],
   "source": [
    "#TASK C \n",
    "\n",
    "def trapz(x,y):\n",
    "    \n",
    "    #Finding the number of nodes (n) and the subinrerval (h) between each neighbouring nodes (Here the nodes might not be equidistant!!)\n",
    "    n = len(x)\n",
    "    h = []\n",
    "    for i in range(n-1):\n",
    "        h.append(x[i+1] - x[i]) \n",
    "        \n",
    "    integral = 0\n",
    "    \n",
    "    for i in range(n-1):\n",
    "        \n",
    "        integral += ((y[i+1]+y[i]) * h[i]) / 2\n",
    "        \n",
    "    return integral\n",
    "\n"
   ]
  },
  {
   "cell_type": "code",
   "execution_count": 7,
   "metadata": {},
   "outputs": [
    {
     "name": "stdout",
     "output_type": "stream",
     "text": [
      "The river themes looks like this\n",
      "The surface area of the water in the river Themes in km^2 is 12.125701354602992\n"
     ]
    },
    {
     "data": {
      "image/png": "[encoded data removed]",
      "text/plain": [
       "<Figure size 432x288 with 1 Axes>"
      ]
     },
     "metadata": {
      "needs_background": "light"
     },
     "output_type": "display_data"
    }
   ],
   "source": [
    "#TASK D\n",
    "\n",
    "#READING IN EACH LINE INTO AN ARRAY\n",
    "def ReadFileToArray (FileName):\n",
    "    f = open(FileName, \"r\")\n",
    "    FileArr = []\n",
    "    for line in f:\n",
    "        FileArr.append(float(line.rstrip()))\n",
    "    f.close()\n",
    "    return FileArr\n",
    "\n",
    "xs = ReadFileToArray('xs.txt')\n",
    "ys = ReadFileToArray('ys.txt')\n",
    "xn = ReadFileToArray('xn.txt')\n",
    "yn = ReadFileToArray('yn.txt')\n",
    "\n",
    "print(\"The river themes looks like this\")\n",
    "pl.plot(xs,ys)\n",
    "pl.plot(xn,yn)\n",
    "pl.axis('equal')\n",
    "\n",
    "\n",
    "#Compute the surface in the basin:\n",
    "\n",
    "Area = trapz(xn,yn)-trapz(xs,ys)\n",
    "print(f\"The surface area of the water in the river Themes in km^2 is {Area/10**6}\")"
   ]
  },
  {
   "cell_type": "code",
   "execution_count": 8,
   "metadata": {},
   "outputs": [
    {
     "name": "stdout",
     "output_type": "stream",
     "text": [
      "The volume of the dome (integral given by the two trapizeum rules is: 257.1239093316353 m^3\n",
      "The colume of a hemisphere for reference is 261.79938779914943 m^3\n"
     ]
    }
   ],
   "source": [
    "#TASK E THIS SOLUTION I THINK IS GOOD BUT WAAAY LESS EFFICIENT THAN THE ONE IN THE SOLUTIONS (will work well for high number of nodes but very slow and semi bad for low number of nodes)\n",
    "\n",
    "#First creating the function that we will be integrating:\n",
    "R = 5\n",
    "\n",
    "\n",
    "x0 = np.arange(-R + 0.05, R , 0.005)\n",
    "y0 = np.arange(-R+ 0.05, R , 0.005)\n",
    "\n",
    "x = []\n",
    "y = []\n",
    "z = []\n",
    "\n",
    "for i in range(len(x0)):\n",
    "    z1 = []\n",
    "    x1 = []\n",
    "    y1 = []\n",
    "    for j in range(len(y0)):\n",
    "        if np.sqrt(x0[i]**2 + y0[j]**2) < R:\n",
    "            x1.append(x0[i])\n",
    "            y1.append(y0[j])\n",
    "            #z1.append(np.sqrt(R - np.sqrt(x0[i] ** 2 + y0[j] ** 2)))\n",
    "            z1.append(np.sqrt(R**2 - (x0[i] ** 2 + y0[j] ** 2)))\n",
    "        else:\n",
    "            x1.append(0)\n",
    "            y1.append(0)\n",
    "            z1.append(0)\n",
    "    z.append(z1)\n",
    "    x.append(x1)\n",
    "    y.append(y1)\n",
    "\n",
    "\n",
    "G =[]  \n",
    "for i in range(int(len(x))):\n",
    "    G.append(trapz(y[i],z[i]))\n",
    "\n",
    "    \n",
    "I = trapz(x0,G)\n",
    "\n",
    "print(f\"The volume of the dome (integral given by the two trapizeum rules is: {I} m^3\")\n",
    "\n",
    "# for an hemisphere the volume is:\n",
    "print(f\"The colume of a hemisphere for reference is {4/3*np.pi*R**3/2} m^3\")\n",
    "\n",
    "\n",
    "\n",
    "\n",
    "    "
   ]
  },
  {
   "cell_type": "code",
   "execution_count": 10,
   "metadata": {},
   "outputs": [
    {
     "name": "stdout",
     "output_type": "stream",
     "text": [
      "The volume of the dome (integral given by the two trapizeum rules is: 261.427850926935 m^3\n",
      "The colume of a hemisphere for reference is 261.79938779914943 m^3\n"
     ]
    }
   ],
   "source": [
    "#TASK E new improved solution:\n",
    "\n",
    "def trapeziumRuleGeneral(x,y):\n",
    "    \n",
    "    #Finding the number of nodes (n) and the subinrerval (h) between each neighbouring nodes (Here the nodes might not be equidistant!!)\n",
    "    n = len(x)\n",
    "    h = []\n",
    "    for i in range(n-1):\n",
    "        h.append(x[i+1] - x[i]) \n",
    "        \n",
    "    integral = 0\n",
    "    \n",
    "    for i in range(n-1):\n",
    "        \n",
    "        integral += ((y[i+1]+y[i]) * h[i]) / 2\n",
    "        \n",
    "        \n",
    "    return integral\n",
    "\n",
    "def trapeziumRuleDoubleIntegral(x_0, x_n, stepSizeXY):\n",
    "    # set the x range, not including the boundaries\n",
    "    x = np.arange(x_0 + stepSizeXY, x_n, stepSizeXY)\n",
    "    N = len(x)\n",
    "    # the y range depends of the various values of x, and cannot be fixed here\n",
    "    \n",
    "    # integrate in dy, for all the value of x, i.e. find G(x)\n",
    "    \n",
    "    G = np.zeros(N)\n",
    "    # for every x\n",
    "    for i in range(0,N):\n",
    "        # determine the boundaries m and p for this x\n",
    "        mx = np.sqrt(25-x[i]**2) # CHANGE THIS TO THE FUNCTION z(x,y) with y =0 !!!\n",
    "        px = mx\n",
    "        # set the y points for this x, not including the boundaries\n",
    "        y = np.arange(-mx+stepSizeXY,px,stepSizeXY)\n",
    "        z = np.zeros(len(y))\n",
    "        # determine the values of the function z(x,y)\n",
    "        for j in range(0,len(y)):\n",
    "             z[j] = np.sqrt(25-x[i]**2-y[j]**2) # CHANGE THIS TO THE FUNCTION z(x,y) !!!!\n",
    "        \n",
    "        # integrate in dy from cx to dx (for this specific x)\n",
    "        G[i] = trapeziumRuleGeneral(y,z) # G(x)\n",
    "    \n",
    "    # integrate G(x) in dx\n",
    "    I = trapeziumRuleGeneral(x,G)\n",
    "    return I\n",
    "\n",
    "\n",
    "I = trapeziumRuleDoubleIntegral(-5,5, 0.05)\n",
    "print(f\"The volume of the dome (integral given by the two trapizeum rules is: {I} m^3\")\n",
    "\n",
    "# for an hemisphere the volume is:\n",
    "print(f\"The colume of a hemisphere for reference is {4/3*np.pi*R**3/2} m^3\")\n",
    "\n"
   ]
  },
  {
   "cell_type": "code",
   "execution_count": null,
   "metadata": {},
   "outputs": [],
   "source": []
  }
 ],
 "metadata": {
  "kernelspec": {
   "display_name": "Python 3",
   "language": "python",
   "name": "python3"
  },
  "language_info": {
   "codemirror_mode": {
    "name": "ipython",
    "version": 3
   },
   "file_extension": ".py",
   "mimetype": "text/x-python",
   "name": "python",
   "nbconvert_exporter": "python",
   "pygments_lexer": "ipython3",
   "version": "3.7.6"
  }
 },
 "nbformat": 4,
 "nbformat_minor": 4
}
