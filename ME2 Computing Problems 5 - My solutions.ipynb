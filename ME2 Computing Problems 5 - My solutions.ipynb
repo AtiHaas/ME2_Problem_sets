{
 "cells": [
  {
   "cell_type": "code",
   "execution_count": 3,
   "metadata": {},
   "outputs": [],
   "source": [
    "import numpy as np\n",
    "import matplotlib.pyplot as pl"
   ]
  },
  {
   "cell_type": "code",
   "execution_count": 6,
   "metadata": {},
   "outputs": [
    {
     "name": "stdout",
     "output_type": "stream",
     "text": [
      "[[0, 3, -1], [0, 2, -2], [0, 1, 0]]\n",
      "0.0\n",
      "You good, the fourth is also coplanar\n"
     ]
    }
   ],
   "source": [
    "#I misunderstood the task A. But at least now I know that to check if 4 points are coplanar you do this:\n",
    "\n",
    "def CoPlanarTest (r1,r2,r3,r4):\n",
    "\n",
    "    A = [[r4[0]-r1[0],r4[1]-r1[1], r4[2]-r1[2]],[r4[0]-r2[0],r4[1]-r2[1], r4[2]-r2[2]],[r4[0]-r3[0],r4[1]-r3[1], r4[2]-r3[2]]]\n",
    "    print(A)\n",
    "    b = np.linalg.det(A)\n",
    "    print(b)\n",
    "    if b != 0:\n",
    "         print(\"The fourth point is not co-planar with the 3 known points\")\n",
    "    else:\n",
    "        print(\"You good, the fourth is also coplanar\")\n",
    "\n",
    "r1 = [1,1,1]\n",
    "r2 = [1,2,2]\n",
    "r3 = [1,3,0]\n",
    "r4 = [1,4,0] \n",
    "CoPlanarTest(r1,r2,r3,r4)"
   ]
  },
  {
   "cell_type": "code",
   "execution_count": 7,
   "metadata": {},
   "outputs": [
    {
     "name": "stdout",
     "output_type": "stream",
     "text": [
      "The funtction takes a value of 1.2360679774997898  at the point you wanted\n"
     ]
    }
   ],
   "source": [
    "#TASK A\n",
    "#Nearest neighbour method\n",
    "#Note you only have to do this in 2D, so no need to check if the points are co-planar\n",
    "\n",
    "def TrNN (r1,r2,r3,f1,f2,f3,r4):\n",
    "    \n",
    "    #Calculating the weights for each direction based on the distance between the point of interest and the points known\n",
    "    w = []\n",
    "    w.append(1/(np.sqrt((r1[0] - r4[0]) ** 2 + (r1[1] - r4[1]) ** 2)))\n",
    "    w.append(1/(np.sqrt((r2[0] - r4[0]) ** 2 + (r2[1] - r4[1]) ** 2)))    \n",
    "    w.append(1/(np.sqrt((r3[0] - r4[0]) ** 2 + (r3[1] - r4[1]) ** 2)))\n",
    "    \n",
    "    #Caclulating the weighted average at the point of interest\n",
    "    f4 = (w[0] * f1 + w[1] * f2 + w[2] * f3) / (w[0] + w[1] + w[2])\n",
    "    \n",
    "    return f4\n",
    "                                            \n",
    "                                                 \n",
    "#Defining the known points:\n",
    "r1 = [0,0]\n",
    "r2 = [1,1]\n",
    "r3 = [2,0]\n",
    "#Defining the values of the unkown function at these known points:\n",
    "f1 = 0\n",
    "f2 = 1\n",
    "f3 = 3\n",
    "#Defining the point of interest\n",
    "r4 = [1,0.5]\n",
    "\n",
    "#Printing the result                                                 \n",
    "print(f\"The funtction takes a value of {TrNN(r1,r2,r3,f1,f2,f3,r4)}  at the point you wanted\")\n",
    "                        "
   ]
  },
  {
   "cell_type": "code",
   "execution_count": 8,
   "metadata": {},
   "outputs": [
    {
     "name": "stdout",
     "output_type": "stream",
     "text": [
      "The funtction takes a value of 1.25  at the point you wanted\n"
     ]
    }
   ],
   "source": [
    "#TASK B\n",
    "#Do the same but for barycentric coordinates\n",
    "\n",
    "def TrBaryc (r1,r2,r3,f1,f2,f3,r4):\n",
    "    \n",
    "    #Instead of doing the matrix manipulations, I just put in the algebraic result to find the lambda values:\n",
    "    lamda1 = (((r2[1] - r3[1]) * (r4[0] -r3[0]) + (r3[0]-r2[0]) * (r4[1] - r3[1])) / (((r2[1] - r3[1]) * (r1[0] - r3[0])) + (r3[0] - r2[0]) * (r1[1] - r3[1])))\n",
    "    lamda2 = (((r3[1] - r1[1]) * (r4[0] -r3[0]) + (r1[0]-r3[0]) * (r4[1] - r3[1])) / (((r2[1] - r3[1]) * (r1[0] - r3[0])) + (r3[0] - r2[0]) * (r1[1] - r3[1])))\n",
    "    lamda3 = 1 - lamda1 - lamda2\n",
    "    \n",
    "    #Caclulating the weighted average at the point of interest\n",
    "    f4 = lamda1 * f1 + lamda2 * f2 + lamda3 * f3\n",
    "    \n",
    "    return f4\n",
    "\n",
    "#Defining the known points:\n",
    "r1 = [0,0]\n",
    "r2 = [1,1]\n",
    "r3 = [2,0]\n",
    "#Defining the values of the unkown function at these known points:\n",
    "f1 = 0\n",
    "f2 = 1\n",
    "f3 = 3\n",
    "#Defining the point of interest\n",
    "r4 = [1,0.5] \n",
    "\n",
    "#Printing the result\n",
    "print(f\"The funtction takes a value of {TrBaryc(r1,r2,r3,f1,f2,f3,r4)}  at the point you wanted\")"
   ]
  },
  {
   "cell_type": "code",
   "execution_count": 38,
   "metadata": {},
   "outputs": [
    {
     "name": "stdout",
     "output_type": "stream",
     "text": [
      "[0.0, 7.048947700274529, 21.146843100823588, 35.24473850137265, 49.3426339019217, 63.44052930247076, 77.53842470301981, 91.63632010356888, 105.73421550411794, 119.83211090466698, 133.93000630521604, 148.0279017057651, 162.12579710631417, 176.22369250686324, 190.32158790741232, 204.41948330796134, 218.51737870851042, 232.61527410905947, 246.71316950960852, 260.8110649101576]\n",
      "20\n"
     ]
    },
    {
     "data": {
      "image/png": "[encoded data removed]",
      "text/plain": [
       "<Figure size 432x288 with 1 Axes>"
      ]
     },
     "metadata": {
      "needs_background": "light"
     },
     "output_type": "display_data"
    }
   ],
   "source": [
    "#TASK C\n",
    "\n",
    "#Choosing the number of nodes:\n",
    "N = 20\n",
    "#Choosing the radius of the circle:\n",
    "R = 500\n",
    "\n",
    "#Defining the arrays that will hold all the points x and y coordinates (the center of the circle will be added ad default):\n",
    "rx = [0]\n",
    "ry = [0]\n",
    "\n",
    "#Finding the vlaues of the points on the mesh\n",
    "for i in range(N):\n",
    "    x_ = R * np.cos(i * (2 * np.pi) / N)\n",
    "    y_ = R * np.sin(i * (2 * np.pi) / N)\n",
    "    rx.append(x_)\n",
    "    ry.append(y_)\n",
    "\n",
    "#Plotting it to make sure alls fine :D\n",
    "pl.axis('equal')\n",
    "pl.scatter(rx, ry)\n",
    "\n",
    "#Defining the array that will hold all the values of the fucntion at the given points (the center of the circle will be added ad default):\n",
    "f = [0]\n",
    "\n",
    "for i in range(N):\n",
    "    f_ = i * 360/N\n",
    "    f.append(f_)\n",
    "    \n",
    "#Defining the fuction that can give us the central node in a tiangular mesh\n",
    "\n",
    "def centroid(rx1, ry1, rx2, ry2, rx3, ry3):\n",
    "    rx4 = (rx1 + rx2 + rx3) / 3\n",
    "    ry4 = (ry1 + ry2 + ry3) / 3\n",
    "    r4 = (rx4, ry4)\n",
    "    return r4\n",
    "    \n",
    "#Generating a new set of lists for all of the central points:\n",
    "cx = []\n",
    "cy = []\n",
    "\n",
    "#Filling this up:\n",
    "\n",
    "for i in range(0, N):\n",
    "    if i == 0:\n",
    "        r4 = centroid(rx[0], ry[0], rx[i+1], ry[i+1], rx[i-1], ry[i-1])\n",
    "        cx.append(r4[0])\n",
    "        cy.append(r4[1])\n",
    "    else:\n",
    "        r4 = centroid(rx[0], ry[0], rx[i], ry[i], rx[i+1], ry[i+1])\n",
    "        cx.append(r4[0])\n",
    "        cy.append(r4[1])\n",
    "\n",
    "#Plotting it to make sure alls fine :D\n",
    "pl.scatter(cx,cy)\n",
    "\n",
    "\n",
    "#Interpolating for each of these nodes:\n",
    "\n",
    "f_centroids = [] #Defining the array which will hold the interpolated values\n",
    "\n",
    "for i in range(len(cx)):\n",
    "    f4_ = TrNN((rx[0], ry[0]), (rx[i], ry[i]), (rx[i+1], ry[i+1]), f[0], f[i], f[i+1], (cx[i], cy[i]))\n",
    "    #Or alternatively with barycentric:\n",
    "    #f4_ = TrBaryc((rx[0], ry[0]), (rx[i], ry[i]), (rx[i+1], ry[i+1]), f[0], f[i], f[i+1], (cx[i], cy[i]))\n",
    "    f_centroids.append(f4_)\n",
    "    \n",
    "print(f_centroids)\n",
    "print(len(f_centroids))\n",
    "\n"
   ]
  },
  {
   "cell_type": "code",
   "execution_count": null,
   "metadata": {},
   "outputs": [],
   "source": []
  },
  {
   "cell_type": "code",
   "execution_count": null,
   "metadata": {},
   "outputs": [],
   "source": []
  }
 ],
 "metadata": {
  "kernelspec": {
   "display_name": "Python 3",
   "language": "python",
   "name": "python3"
  },
  "language_info": {
   "codemirror_mode": {
    "name": "ipython",
    "version": 3
   },
   "file_extension": ".py",
   "mimetype": "text/x-python",
   "name": "python",
   "nbconvert_exporter": "python",
   "pygments_lexer": "ipython3",
   "version": "3.7.6"
  }
 },
 "nbformat": 4,
 "nbformat_minor": 4
}
