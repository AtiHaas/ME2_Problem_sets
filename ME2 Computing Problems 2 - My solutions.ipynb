{
 "cells": [
  {
   "cell_type": "code",
   "execution_count": 3,
   "metadata": {},
   "outputs": [
    {
     "name": "stdout",
     "output_type": "stream",
     "text": [
      "5.0\n",
      "5.0\n",
      "5.0\n",
      "-4.6\n",
      "-4.6\n",
      "1.8260869565217392\n",
      "[ 1.8015873   0.61111111 -3.69047619  1.63492063]\n"
     ]
    }
   ],
   "source": [
    "#TASK A\n",
    "\n",
    "import numpy as np\n",
    "import matplotlib.pyplot as pl\n",
    "\n",
    "\n",
    "def GaussianElimination(A,b):\n",
    "    \n",
    "    #The number of equations in the system is\n",
    "    n = len(A)\n",
    "\n",
    "    #Eliminating the matrix so that it becomes upper triangular form\n",
    "    for j in range(0,n):\n",
    "        for i in range(j+1, n):\n",
    "            #Save p so you can use it even after you changed A (p is the pivot)\n",
    "            p = (A[i,j] / A[j,j])\n",
    "            print(A[j,j])\n",
    "            A[i] = A[i] - p * A[j]\n",
    "            #Adjusting vector b as well\n",
    "            b[i] = b[i] - p * b[j]\n",
    "    \n",
    "    #Finding the values of x_i for each case \n",
    "    \n",
    "    x = np.zeros(n)\n",
    "    for i in range(n-1,-1, -1):\n",
    "        x[i] = b[i] / A[i][i]\n",
    "        for j in range(i+1,n):\n",
    "                x[i] = x[i] - x[j] * A[i][j] / A[i][i]\n",
    "    \n",
    "    \n",
    "    return x\n",
    "    \n",
    "A = np.array([[5,-2,1,3],[1,-5,2,1],[-1,2,1,2],[2,-1,3,8]],dtype=float)\n",
    "b = np.array([9,-7,-1,5],dtype=float)\n",
    "\n",
    "x = GaussianElimination(A,b)\n",
    "\n",
    "print(x)"
   ]
  },
  {
   "cell_type": "code",
   "execution_count": null,
   "metadata": {},
   "outputs": [],
   "source": []
  },
  {
   "cell_type": "code",
   "execution_count": 12,
   "metadata": {},
   "outputs": [
    {
     "name": "stdout",
     "output_type": "stream",
     "text": [
      "[ inf -inf]\n",
      "The determinant of the matrix is 0.0\n",
      "[-100. -200.]\n",
      "[inf inf]\n"
     ]
    },
    {
     "name": "stderr",
     "output_type": "stream",
     "text": [
      "/Users/atihaas/opt/anaconda3/lib/python3.7/site-packages/ipykernel_launcher.py:25: RuntimeWarning: divide by zero encountered in long_scalars\n"
     ]
    },
    {
     "data": {
      "image/png": "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\n",
      "text/plain": [
       "<Figure size 432x288 with 1 Axes>"
      ]
     },
     "metadata": {
      "needs_background": "light"
     },
     "output_type": "display_data"
    }
   ],
   "source": [
    "#TASK B\n",
    "\n",
    "import matplotlib.pyplot as pl\n",
    "\n",
    "#PLOT THE TWO EQUATIONS\n",
    "\n",
    "x = np.arange(-5,5,0.1)\n",
    "y1 = []\n",
    "y2 = []\n",
    "\n",
    "for i in x:\n",
    "    y1.append((2 - 4 * i) / 3)\n",
    "    y2.append((1 - 8 * i) / 6) \n",
    "\n",
    "pl.plot(x, y1, 'r')\n",
    "pl.plot(x, y2, 'b')\n",
    "\n",
    "#SOLVING THIS NUMERICALLY\n",
    "A = np.array([[4,3],[8,6]])\n",
    "b = np.array([2,1])\n",
    "\n",
    "y = GaussianElimination(A,b)\n",
    "print(y)\n",
    "\n",
    "#CALCULATE THE DETERMINANT AS WELL\n",
    "\n",
    "determinant = np.linalg.det(A)\n",
    "print(f\"The determinant of the matrix is {determinant}\")\n",
    "\n",
    "\n",
    "\n",
    "#LOOK AT ILL CONDITIONED CASES:\n",
    "\n",
    "A2 = np.array([[400,-201], [-800,401]])\n",
    "b2 = np.array([200,-200])\n",
    "\n",
    "Ill1 = GaussianElimination(A2,b2)\n",
    "print(Ill1)\n",
    "\n",
    "A3 = np.array([[401,-201], [-800,401]])\n",
    "b3 = np.array([200,-200])\n",
    "\n",
    "Ill2 = GaussianElimination(A3,b3)\n",
    "print(Ill2)\n"
   ]
  },
 ],
 "metadata": {
  "kernelspec": {
   "display_name": "Python 3",
   "language": "python",
   "name": "python3"
  },
  "language_info": {
   "codemirror_mode": {
    "name": "ipython",
    "version": 3
   },
   "file_extension": ".py",
   "mimetype": "text/x-python",
   "name": "python",
   "nbconvert_exporter": "python",
   "pygments_lexer": "ipython3",
   "version": "3.7.6"
  }
 },
 "nbformat": 4,
 "nbformat_minor": 4
}
